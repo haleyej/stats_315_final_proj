{
 "cells": [
  {
   "cell_type": "markdown",
   "id": "ae441266",
   "metadata": {},
   "source": [
    "<h1>Getting engagement data for tweets Twitter Climate Change sentiment dataset</h1>"
   ]
  },
  {
   "cell_type": "code",
   "execution_count": null,
   "id": "216498fd",
   "metadata": {},
   "outputs": [],
   "source": [
    "import pandas as pd\n",
    "import numpy as np\n",
    "import tweepy "
   ]
  },
  {
   "cell_type": "markdown",
   "id": "b23d97cb",
   "metadata": {},
   "source": [
    "<h2>Load Data</h2>"
   ]
  },
  {
   "cell_type": "code",
   "execution_count": null,
   "id": "a3686a7b",
   "metadata": {},
   "outputs": [],
   "source": [
    "tweets = pd.read_csv(\"../twitter_sentiment_data.csv\")"
   ]
  },
  {
   "cell_type": "code",
   "execution_count": null,
   "id": "024fb8e1",
   "metadata": {},
   "outputs": [],
   "source": [
    "tweets.head()"
   ]
  },
  {
   "cell_type": "markdown",
   "id": "e55e591a",
   "metadata": {},
   "source": [
    "<h2>Extract Engagement</h2>"
   ]
  },
  {
   "cell_type": "code",
   "execution_count": null,
   "id": "e0616ac7",
   "metadata": {},
   "outputs": [],
   "source": [
    "bearer_token = \"AAAAAAAAAAAAAAAAAAAAAHc8OQEAAAAAcU%2FIXW1wjJ0h%2FpQxvRKbYDyhJVI%3DntLxP3rMhKb9yTzTqLekvbsl2bP4F1OCRN4DLw3JPSbn9XzbDq\"\n",
    "client = tweepy.Client(bearer_token)"
   ]
  },
  {
   "cell_type": "code",
   "execution_count": null,
   "id": "b853ce23",
   "metadata": {},
   "outputs": [],
   "source": [
    "def extract_entities(t):\n",
    "    keys = list(t.data.entities.keys())\n",
    "    if 'mentions' in keys:\n",
    "        mentioned_users = [i['username'] for i in t.data.entities['mentions']]\n",
    "    else:\n",
    "        mentioned_users = None\n",
    "    if 'hashtags' in keys:\n",
    "        hashtags = [i['tag'] for i in t.data.entities['hashtags']]\n",
    "    else: \n",
    "        hashtags = None\n",
    "    if 'annnotations' in keys:\n",
    "        annotations = [i['annotation'] for i in t.data.entities['annotations']]\n",
    "    else: \n",
    "        annotations = None\n",
    "    return (mentioned_users, hashtags, annotations)\n",
    "        "
   ]
  },
  {
   "cell_type": "code",
   "execution_count": null,
   "id": "0bd8121c",
   "metadata": {},
   "outputs": [],
   "source": [
    "def get_tweet_data(t):\n",
    "    t = client.get_tweet(t, tweet_fields=['entities', 'public_metrics', 'author_id'])\n",
    "    if t.data == None:\n",
    "        return None\n",
    "    #identifiers\n",
    "    tweet_id = t.data.id\n",
    "    tweeter_id = t.data.author_id\n",
    "    #get tweet attributes\n",
    "    if getattr(s.data, 'public_metrics') != None:\n",
    "        metrics = t.data.public_metrics\n",
    "        retweets = metrics['retweet_count']\n",
    "        replies = metrics['reply_count']\n",
    "        likes = metrics['like_count']\n",
    "        quote_tweets = metrics['quote_count']\n",
    "    else:\n",
    "        retweets = None\n",
    "        replies = None\n",
    "        likes = None\n",
    "        quote_tweets = None\n",
    "    #get tweet entities\n",
    "    if getattr(t.data, 'entities'):\n",
    "        mentioned_users, hashtags, annotations = extract_entities(t)\n",
    "    else:\n",
    "        mentioned_users, hashtags, annotations = None, None, None\n",
    "    data = np.array([tweet_id, tweeter_id, retweets, replies, likes, quote_tweets, mentioned_users,\n",
    "                     hashtags, annotations], dtype=object)\n",
    "    return data"
   ]
  },
  {
   "cell_type": "code",
   "execution_count": null,
   "id": "498fa822",
   "metadata": {},
   "outputs": [],
   "source": [
    "tweets = tweets['tweetid'].values\n",
    "engagement_data = np.array(list(map(get_tweet_data, sample)), dtype=object)"
   ]
  },
  {
   "cell_type": "code",
   "execution_count": null,
   "id": "d094d19d",
   "metadata": {},
   "outputs": [],
   "source": []
  }
 ],
 "metadata": {
  "kernelspec": {
   "display_name": "Python 3 (ipykernel)",
   "language": "python",
   "name": "python3"
  },
  "language_info": {
   "codemirror_mode": {
    "name": "ipython",
    "version": 3
   },
   "file_extension": ".py",
   "mimetype": "text/x-python",
   "name": "python",
   "nbconvert_exporter": "python",
   "pygments_lexer": "ipython3",
   "version": "3.8.13"
  }
 },
 "nbformat": 4,
 "nbformat_minor": 5
}
