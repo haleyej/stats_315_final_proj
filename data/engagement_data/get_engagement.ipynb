{
 "cells": [
  {
   "cell_type": "markdown",
   "id": "ae441266",
   "metadata": {},
   "source": [
    "<h1>Getting engagement data for tweets Twitter Climate Change sentiment dataset</h1>"
   ]
  },
  {
   "cell_type": "code",
   "execution_count": 1,
   "id": "216498fd",
   "metadata": {},
   "outputs": [],
   "source": [
    "import pandas as pd\n",
    "import numpy as np\n",
    "import tweepy \n",
    "import os"
   ]
  },
  {
   "cell_type": "markdown",
   "id": "b23d97cb",
   "metadata": {},
   "source": [
    "<h2>Load Data</h2>"
   ]
  },
  {
   "cell_type": "code",
   "execution_count": 2,
   "id": "a3686a7b",
   "metadata": {},
   "outputs": [],
   "source": [
    "tweets = pd.read_csv(\"../twitter_sentiment_data.csv\")"
   ]
  },
  {
   "cell_type": "code",
   "execution_count": 3,
   "id": "024fb8e1",
   "metadata": {},
   "outputs": [
    {
     "data": {
      "text/html": [
       "<div>\n",
       "<style scoped>\n",
       "    .dataframe tbody tr th:only-of-type {\n",
       "        vertical-align: middle;\n",
       "    }\n",
       "\n",
       "    .dataframe tbody tr th {\n",
       "        vertical-align: top;\n",
       "    }\n",
       "\n",
       "    .dataframe thead th {\n",
       "        text-align: right;\n",
       "    }\n",
       "</style>\n",
       "<table border=\"1\" class=\"dataframe\">\n",
       "  <thead>\n",
       "    <tr style=\"text-align: right;\">\n",
       "      <th></th>\n",
       "      <th>sentiment</th>\n",
       "      <th>message</th>\n",
       "      <th>tweetid</th>\n",
       "    </tr>\n",
       "  </thead>\n",
       "  <tbody>\n",
       "    <tr>\n",
       "      <th>0</th>\n",
       "      <td>-1</td>\n",
       "      <td>@tiniebeany climate change is an interesting h...</td>\n",
       "      <td>792927353886371840</td>\n",
       "    </tr>\n",
       "    <tr>\n",
       "      <th>1</th>\n",
       "      <td>1</td>\n",
       "      <td>RT @NatGeoChannel: Watch #BeforeTheFlood right...</td>\n",
       "      <td>793124211518832641</td>\n",
       "    </tr>\n",
       "    <tr>\n",
       "      <th>2</th>\n",
       "      <td>1</td>\n",
       "      <td>Fabulous! Leonardo #DiCaprio's film on #climat...</td>\n",
       "      <td>793124402388832256</td>\n",
       "    </tr>\n",
       "    <tr>\n",
       "      <th>3</th>\n",
       "      <td>1</td>\n",
       "      <td>RT @Mick_Fanning: Just watched this amazing do...</td>\n",
       "      <td>793124635873275904</td>\n",
       "    </tr>\n",
       "    <tr>\n",
       "      <th>4</th>\n",
       "      <td>2</td>\n",
       "      <td>RT @cnalive: Pranita Biswasi, a Lutheran from ...</td>\n",
       "      <td>793125156185137153</td>\n",
       "    </tr>\n",
       "  </tbody>\n",
       "</table>\n",
       "</div>"
      ],
      "text/plain": [
       "   sentiment                                            message  \\\n",
       "0         -1  @tiniebeany climate change is an interesting h...   \n",
       "1          1  RT @NatGeoChannel: Watch #BeforeTheFlood right...   \n",
       "2          1  Fabulous! Leonardo #DiCaprio's film on #climat...   \n",
       "3          1  RT @Mick_Fanning: Just watched this amazing do...   \n",
       "4          2  RT @cnalive: Pranita Biswasi, a Lutheran from ...   \n",
       "\n",
       "              tweetid  \n",
       "0  792927353886371840  \n",
       "1  793124211518832641  \n",
       "2  793124402388832256  \n",
       "3  793124635873275904  \n",
       "4  793125156185137153  "
      ]
     },
     "execution_count": 3,
     "metadata": {},
     "output_type": "execute_result"
    }
   ],
   "source": [
    "tweets.head()"
   ]
  },
  {
   "cell_type": "markdown",
   "id": "ce77df27",
   "metadata": {},
   "source": [
    "<h2>Create Tweepy Client</h2>"
   ]
  },
  {
   "cell_type": "code",
   "execution_count": 34,
   "id": "e0616ac7",
   "metadata": {},
   "outputs": [],
   "source": [
    "bearer_token = \"AAAAAAAAAAAAAAAAAAAAAHc8OQEAAAAAcU%2FIXW1wjJ0h%2FpQxvRKbYDyhJVI%3DntLxP3rMhKb9yTzTqLekvbsl2bP4F1OCRN4DLw3JPSbn9XzbDq\"\n",
    "client = tweepy.Client(bearer_token, wait_on_rate_limit = True)"
   ]
  },
  {
   "cell_type": "markdown",
   "id": "e55e591a",
   "metadata": {},
   "source": [
    "<h2>Extract Engagement</h2>"
   ]
  },
  {
   "cell_type": "code",
   "execution_count": 35,
   "id": "b853ce23",
   "metadata": {},
   "outputs": [],
   "source": [
    "def extract_entities(t):\n",
    "    keys = list(t.data.entities.keys())\n",
    "    if 'mentions' in keys:\n",
    "        mentioned_users = [i['username'] for i in t.data.entities['mentions']]\n",
    "    else:\n",
    "        mentioned_users = None\n",
    "    if 'hashtags' in keys:\n",
    "        hashtags = [i['tag'] for i in t.data.entities['hashtags']]\n",
    "    else: \n",
    "        hashtags = None\n",
    "    if 'annnotations' in keys:\n",
    "        annotations = [i['annotation'] for i in t.data.entities['annotations']]\n",
    "    else: \n",
    "        annotations = None\n",
    "    if 'urls' in keys:\n",
    "        urls = [i['url'] for i in t.data.entities['urls']]\n",
    "    else: \n",
    "        urls = None\n",
    "    return (mentioned_users, hashtags, annotations, None)\n",
    "        "
   ]
  },
  {
   "cell_type": "code",
   "execution_count": 36,
   "id": "0bd8121c",
   "metadata": {},
   "outputs": [],
   "source": [
    "def get_tweet_data(t):\n",
    "    t = client.get_tweet(t, tweet_fields=['entities', 'public_metrics', 'author_id'])\n",
    "    if t.data == None:\n",
    "        return []\n",
    "    #identifiers\n",
    "    tweet_id = t.data.id\n",
    "    tweeter_id = t.data.author_id\n",
    "    #get tweet attributes\n",
    "    if getattr(t.data, 'public_metrics') != None:\n",
    "        metrics = t.data.public_metrics\n",
    "        retweets = metrics['retweet_count']\n",
    "        replies = metrics['reply_count']\n",
    "        likes = metrics['like_count']\n",
    "        quote_tweets = metrics['quote_count']\n",
    "    else:\n",
    "        retweets = None\n",
    "        replies = None\n",
    "        likes = None\n",
    "        quote_tweets = None\n",
    "    #get tweet entities\n",
    "    if getattr(t.data, 'entities'):\n",
    "        mentioned_users, hashtags, annotations, urls = extract_entities(t)\n",
    "    else:\n",
    "        mentioned_users, hashtags, annotations, urls = None, None, None, None \n",
    "    #write to file\n",
    "    data = np.array([tweet_id, tweeter_id, retweets, replies, likes, quote_tweets, mentioned_users,\n",
    "                     hashtags, annotations, urls], dtype=object)\n",
    "    data_df = pd.DataFrame([data], columns = ['tweet_id', 'tweeter_id', 'retweets', 'replies', 'likes', \n",
    "                                              'quote_tweets', 'mentioned_users', 'hashtags', 'annotations', \n",
    "                                              'urls'])\n",
    "    try:\n",
    "        data_df.to_csv(\"tweet_engagement.csv\", mode=\"a\", index=False, header=True)\n",
    "    except:\n",
    "        return None\n",
    "    return None"
   ]
  },
  {
   "cell_type": "code",
   "execution_count": 37,
   "id": "498fa822",
   "metadata": {},
   "outputs": [
    {
     "name": "stderr",
     "output_type": "stream",
     "text": [
      "Rate limit exceeded. Sleeping for 852 seconds.\n",
      "Rate limit exceeded. Sleeping for 846 seconds.\n"
     ]
    }
   ],
   "source": [
    "ids = tweets['tweetid'].values[100:1000]\n",
    "engagement_data = [get_tweet_data(i) for i in ids]"
   ]
  },
  {
   "cell_type": "code",
   "execution_count": 28,
   "id": "fb19970f",
   "metadata": {},
   "outputs": [],
   "source": [
    "test = pd.read_csv(\"tweet_engagement.csv\")"
   ]
  },
  {
   "cell_type": "code",
   "execution_count": null,
   "id": "4cb4e610",
   "metadata": {},
   "outputs": [],
   "source": []
  }
 ],
 "metadata": {
  "kernelspec": {
   "display_name": "Python 3 (ipykernel)",
   "language": "python",
   "name": "python3"
  },
  "language_info": {
   "codemirror_mode": {
    "name": "ipython",
    "version": 3
   },
   "file_extension": ".py",
   "mimetype": "text/x-python",
   "name": "python",
   "nbconvert_exporter": "python",
   "pygments_lexer": "ipython3",
   "version": "3.8.13"
  }
 },
 "nbformat": 4,
 "nbformat_minor": 5
}
