{
 "cells": [
  {
   "cell_type": "markdown",
   "id": "ae441266",
   "metadata": {},
   "source": [
    "<h1>Getting engagement data for tweets Twitter Climate Change sentiment dataset</h1>"
   ]
  },
  {
   "cell_type": "code",
   "execution_count": 35,
   "id": "216498fd",
   "metadata": {},
   "outputs": [],
   "source": [
    "import pandas as pd\n",
    "import numpy as np\n",
    "import tweepy \n",
    "import os"
   ]
  },
  {
   "cell_type": "markdown",
   "id": "b23d97cb",
   "metadata": {},
   "source": [
    "<h2>Load Data</h2>"
   ]
  },
  {
   "cell_type": "code",
   "execution_count": 2,
   "id": "a3686a7b",
   "metadata": {},
   "outputs": [],
   "source": [
    "tweets = pd.read_csv(\"../twitter_sentiment_data.csv\")"
   ]
  },
  {
   "cell_type": "code",
   "execution_count": 3,
   "id": "024fb8e1",
   "metadata": {},
   "outputs": [
    {
     "data": {
      "text/html": [
       "<div>\n",
       "<style scoped>\n",
       "    .dataframe tbody tr th:only-of-type {\n",
       "        vertical-align: middle;\n",
       "    }\n",
       "\n",
       "    .dataframe tbody tr th {\n",
       "        vertical-align: top;\n",
       "    }\n",
       "\n",
       "    .dataframe thead th {\n",
       "        text-align: right;\n",
       "    }\n",
       "</style>\n",
       "<table border=\"1\" class=\"dataframe\">\n",
       "  <thead>\n",
       "    <tr style=\"text-align: right;\">\n",
       "      <th></th>\n",
       "      <th>sentiment</th>\n",
       "      <th>message</th>\n",
       "      <th>tweetid</th>\n",
       "    </tr>\n",
       "  </thead>\n",
       "  <tbody>\n",
       "    <tr>\n",
       "      <th>0</th>\n",
       "      <td>-1</td>\n",
       "      <td>@tiniebeany climate change is an interesting h...</td>\n",
       "      <td>792927353886371840</td>\n",
       "    </tr>\n",
       "    <tr>\n",
       "      <th>1</th>\n",
       "      <td>1</td>\n",
       "      <td>RT @NatGeoChannel: Watch #BeforeTheFlood right...</td>\n",
       "      <td>793124211518832641</td>\n",
       "    </tr>\n",
       "    <tr>\n",
       "      <th>2</th>\n",
       "      <td>1</td>\n",
       "      <td>Fabulous! Leonardo #DiCaprio's film on #climat...</td>\n",
       "      <td>793124402388832256</td>\n",
       "    </tr>\n",
       "    <tr>\n",
       "      <th>3</th>\n",
       "      <td>1</td>\n",
       "      <td>RT @Mick_Fanning: Just watched this amazing do...</td>\n",
       "      <td>793124635873275904</td>\n",
       "    </tr>\n",
       "    <tr>\n",
       "      <th>4</th>\n",
       "      <td>2</td>\n",
       "      <td>RT @cnalive: Pranita Biswasi, a Lutheran from ...</td>\n",
       "      <td>793125156185137153</td>\n",
       "    </tr>\n",
       "  </tbody>\n",
       "</table>\n",
       "</div>"
      ],
      "text/plain": [
       "   sentiment                                            message  \\\n",
       "0         -1  @tiniebeany climate change is an interesting h...   \n",
       "1          1  RT @NatGeoChannel: Watch #BeforeTheFlood right...   \n",
       "2          1  Fabulous! Leonardo #DiCaprio's film on #climat...   \n",
       "3          1  RT @Mick_Fanning: Just watched this amazing do...   \n",
       "4          2  RT @cnalive: Pranita Biswasi, a Lutheran from ...   \n",
       "\n",
       "              tweetid  \n",
       "0  792927353886371840  \n",
       "1  793124211518832641  \n",
       "2  793124402388832256  \n",
       "3  793124635873275904  \n",
       "4  793125156185137153  "
      ]
     },
     "execution_count": 3,
     "metadata": {},
     "output_type": "execute_result"
    }
   ],
   "source": [
    "tweets.head()"
   ]
  },
  {
   "cell_type": "markdown",
   "id": "e55e591a",
   "metadata": {},
   "source": [
    "<h2>Extract Engagement</h2>"
   ]
  },
  {
   "cell_type": "code",
   "execution_count": 39,
   "id": "e0616ac7",
   "metadata": {},
   "outputs": [],
   "source": [
    "client = tweepy.Client(bearer_token)\n",
    "\n"
   ]
  },
  {
   "cell_type": "code",
   "execution_count": 5,
   "id": "b853ce23",
   "metadata": {},
   "outputs": [],
   "source": [
    "def extract_entities(t):\n",
    "    keys = list(t.data.entities.keys())\n",
    "    if 'mentions' in keys:\n",
    "        mentioned_users = [i['username'] for i in t.data.entities['mentions']]\n",
    "    else:\n",
    "        mentioned_users = None\n",
    "    if 'hashtags' in keys:\n",
    "        hashtags = [i['tag'] for i in t.data.entities['hashtags']]\n",
    "    else: \n",
    "        hashtags = None\n",
    "    if 'annnotations' in keys:\n",
    "        annotations = [i['annotation'] for i in t.data.entities['annotations']]\n",
    "    else: \n",
    "        annotations = None\n",
    "    return (mentioned_users, hashtags, annotations)\n",
    "        "
   ]
  },
  {
   "cell_type": "code",
   "execution_count": 26,
   "id": "0bd8121c",
   "metadata": {},
   "outputs": [],
   "source": [
    "def get_tweet_data(t):\n",
    "    t = client.get_tweet(t, tweet_fields=['entities', 'public_metrics', 'author_id'])\n",
    "    if t.data == None:\n",
    "        return []\n",
    "    #identifiers\n",
    "    tweet_id = t.data.id\n",
    "    tweeter_id = t.data.author_id\n",
    "    #get tweet attributes\n",
    "    if getattr(t.data, 'public_metrics') != None:\n",
    "        metrics = t.data.public_metrics\n",
    "        retweets = metrics['retweet_count']\n",
    "        replies = metrics['reply_count']\n",
    "        likes = metrics['like_count']\n",
    "        quote_tweets = metrics['quote_count']\n",
    "    else:\n",
    "        retweets = None\n",
    "        replies = None\n",
    "        likes = None\n",
    "        quote_tweets = None\n",
    "    #get tweet entities\n",
    "    if getattr(t.data, 'entities'):\n",
    "        mentioned_users, hashtags, annotations = extract_entities(t)\n",
    "    else:\n",
    "        mentioned_users, hashtags, annotations = None, None, None\n",
    "    data = np.array([tweet_id, tweeter_id, retweets, replies, likes, quote_tweets, mentioned_users,\n",
    "                     hashtags, annotations], dtype=object)\n",
    "    return data"
   ]
  },
  {
   "cell_type": "code",
   "execution_count": 27,
   "id": "498fa822",
   "metadata": {},
   "outputs": [],
   "source": [
    "ids = tweets['tweetid'].values[:100]\n",
    "engagement_data = [get_tweet_data(i) for i in ids]"
   ]
  },
  {
   "cell_type": "markdown",
   "id": "1e153a81",
   "metadata": {},
   "source": [
    "<h2>Write to file</h2>"
   ]
  },
  {
   "cell_type": "code",
   "execution_count": 29,
   "id": "f7377150",
   "metadata": {},
   "outputs": [],
   "source": [
    "df = pd.DataFrame(data=engagement_data, columns = ['tweet_id', 'tweeter_id', 'retweets', \n",
    "                                                   'replies', 'likes', 'quote_tweets', \n",
    "                                                   'mentioned_users', 'hashtags', 'annotations']\n",
    "                 )"
   ]
  },
  {
   "cell_type": "code",
   "execution_count": 37,
   "id": "62f22c19",
   "metadata": {},
   "outputs": [],
   "source": [
    "os.chdir(\"../\")"
   ]
  },
  {
   "cell_type": "code",
   "execution_count": 34,
   "id": "2e9dbebe",
   "metadata": {},
   "outputs": [
    {
     "data": {
      "text/html": [
       "<div>\n",
       "<style scoped>\n",
       "    .dataframe tbody tr th:only-of-type {\n",
       "        vertical-align: middle;\n",
       "    }\n",
       "\n",
       "    .dataframe tbody tr th {\n",
       "        vertical-align: top;\n",
       "    }\n",
       "\n",
       "    .dataframe thead th {\n",
       "        text-align: right;\n",
       "    }\n",
       "</style>\n",
       "<table border=\"1\" class=\"dataframe\">\n",
       "  <thead>\n",
       "    <tr style=\"text-align: right;\">\n",
       "      <th></th>\n",
       "      <th>tweet_id</th>\n",
       "      <th>tweeter_id</th>\n",
       "      <th>retweets</th>\n",
       "      <th>replies</th>\n",
       "      <th>likes</th>\n",
       "      <th>quote_tweets</th>\n",
       "      <th>mentioned_users</th>\n",
       "      <th>hashtags</th>\n",
       "      <th>annotations</th>\n",
       "    </tr>\n",
       "  </thead>\n",
       "  <tbody>\n",
       "    <tr>\n",
       "      <th>24</th>\n",
       "      <td>NaN</td>\n",
       "      <td>NaN</td>\n",
       "      <td>NaN</td>\n",
       "      <td>NaN</td>\n",
       "      <td>NaN</td>\n",
       "      <td>NaN</td>\n",
       "      <td>None</td>\n",
       "      <td>None</td>\n",
       "      <td>None</td>\n",
       "    </tr>\n",
       "    <tr>\n",
       "      <th>40</th>\n",
       "      <td>NaN</td>\n",
       "      <td>NaN</td>\n",
       "      <td>NaN</td>\n",
       "      <td>NaN</td>\n",
       "      <td>NaN</td>\n",
       "      <td>NaN</td>\n",
       "      <td>None</td>\n",
       "      <td>None</td>\n",
       "      <td>None</td>\n",
       "    </tr>\n",
       "    <tr>\n",
       "      <th>25</th>\n",
       "      <td>7.931366e+17</td>\n",
       "      <td>7.455940e+17</td>\n",
       "      <td>0.0</td>\n",
       "      <td>0.0</td>\n",
       "      <td>0.0</td>\n",
       "      <td>0.0</td>\n",
       "      <td>None</td>\n",
       "      <td>None</td>\n",
       "      <td>None</td>\n",
       "    </tr>\n",
       "    <tr>\n",
       "      <th>21</th>\n",
       "      <td>NaN</td>\n",
       "      <td>NaN</td>\n",
       "      <td>NaN</td>\n",
       "      <td>NaN</td>\n",
       "      <td>NaN</td>\n",
       "      <td>NaN</td>\n",
       "      <td>None</td>\n",
       "      <td>None</td>\n",
       "      <td>None</td>\n",
       "    </tr>\n",
       "    <tr>\n",
       "      <th>36</th>\n",
       "      <td>NaN</td>\n",
       "      <td>NaN</td>\n",
       "      <td>NaN</td>\n",
       "      <td>NaN</td>\n",
       "      <td>NaN</td>\n",
       "      <td>NaN</td>\n",
       "      <td>None</td>\n",
       "      <td>None</td>\n",
       "      <td>None</td>\n",
       "    </tr>\n",
       "  </tbody>\n",
       "</table>\n",
       "</div>"
      ],
      "text/plain": [
       "        tweet_id    tweeter_id  retweets  replies  likes  quote_tweets  \\\n",
       "24           NaN           NaN       NaN      NaN    NaN           NaN   \n",
       "40           NaN           NaN       NaN      NaN    NaN           NaN   \n",
       "25  7.931366e+17  7.455940e+17       0.0      0.0    0.0           0.0   \n",
       "21           NaN           NaN       NaN      NaN    NaN           NaN   \n",
       "36           NaN           NaN       NaN      NaN    NaN           NaN   \n",
       "\n",
       "   mentioned_users hashtags annotations  \n",
       "24            None     None        None  \n",
       "40            None     None        None  \n",
       "25            None     None        None  \n",
       "21            None     None        None  \n",
       "36            None     None        None  "
      ]
     },
     "execution_count": 34,
     "metadata": {},
     "output_type": "execute_result"
    }
   ],
   "source": [
    "df.to_csv(\"engagement_data.csv\")"
   ]
  },
  {
   "cell_type": "code",
   "execution_count": null,
   "id": "78481ba2",
   "metadata": {},
   "outputs": [],
   "source": []
  }
 ],
 "metadata": {
  "kernelspec": {
   "display_name": "Python 3 (ipykernel)",
   "language": "python",
   "name": "python3"
  },
  "language_info": {
   "codemirror_mode": {
    "name": "ipython",
    "version": 3
   },
   "file_extension": ".py",
   "mimetype": "text/x-python",
   "name": "python",
   "nbconvert_exporter": "python",
   "pygments_lexer": "ipython3",
   "version": "3.8.13"
  }
 },
 "nbformat": 4,
 "nbformat_minor": 5
}
