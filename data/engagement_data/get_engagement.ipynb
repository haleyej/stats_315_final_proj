{
 "cells": [
  {
   "cell_type": "markdown",
   "id": "ae441266",
   "metadata": {},
   "source": [
    "<h1>Getting engagement data for tweets Twitter Climate Change sentiment dataset</h1>"
   ]
  },
  {
   "cell_type": "code",
   "execution_count": 1,
   "id": "216498fd",
   "metadata": {},
   "outputs": [],
   "source": [
    "import pandas as pd\n",
    "import numpy as np\n",
    "import tweepy \n",
    "import os"
   ]
  },
  {
   "cell_type": "markdown",
   "id": "b23d97cb",
   "metadata": {},
   "source": [
    "<h2>Load Data</h2>"
   ]
  },
  {
   "cell_type": "code",
   "execution_count": 2,
   "id": "a3686a7b",
   "metadata": {},
   "outputs": [],
   "source": [
    "tweets = pd.read_csv(\"../twitter_sentiment_data.csv\")"
   ]
  },
  {
   "cell_type": "code",
   "execution_count": 3,
   "id": "024fb8e1",
   "metadata": {},
   "outputs": [
    {
     "data": {
      "text/html": [
       "<div>\n",
       "<style scoped>\n",
       "    .dataframe tbody tr th:only-of-type {\n",
       "        vertical-align: middle;\n",
       "    }\n",
       "\n",
       "    .dataframe tbody tr th {\n",
       "        vertical-align: top;\n",
       "    }\n",
       "\n",
       "    .dataframe thead th {\n",
       "        text-align: right;\n",
       "    }\n",
       "</style>\n",
       "<table border=\"1\" class=\"dataframe\">\n",
       "  <thead>\n",
       "    <tr style=\"text-align: right;\">\n",
       "      <th></th>\n",
       "      <th>sentiment</th>\n",
       "      <th>message</th>\n",
       "      <th>tweetid</th>\n",
       "    </tr>\n",
       "  </thead>\n",
       "  <tbody>\n",
       "    <tr>\n",
       "      <th>0</th>\n",
       "      <td>-1</td>\n",
       "      <td>@tiniebeany climate change is an interesting h...</td>\n",
       "      <td>792927353886371840</td>\n",
       "    </tr>\n",
       "    <tr>\n",
       "      <th>1</th>\n",
       "      <td>1</td>\n",
       "      <td>RT @NatGeoChannel: Watch #BeforeTheFlood right...</td>\n",
       "      <td>793124211518832641</td>\n",
       "    </tr>\n",
       "    <tr>\n",
       "      <th>2</th>\n",
       "      <td>1</td>\n",
       "      <td>Fabulous! Leonardo #DiCaprio's film on #climat...</td>\n",
       "      <td>793124402388832256</td>\n",
       "    </tr>\n",
       "    <tr>\n",
       "      <th>3</th>\n",
       "      <td>1</td>\n",
       "      <td>RT @Mick_Fanning: Just watched this amazing do...</td>\n",
       "      <td>793124635873275904</td>\n",
       "    </tr>\n",
       "    <tr>\n",
       "      <th>4</th>\n",
       "      <td>2</td>\n",
       "      <td>RT @cnalive: Pranita Biswasi, a Lutheran from ...</td>\n",
       "      <td>793125156185137153</td>\n",
       "    </tr>\n",
       "  </tbody>\n",
       "</table>\n",
       "</div>"
      ],
      "text/plain": [
       "   sentiment                                            message  \\\n",
       "0         -1  @tiniebeany climate change is an interesting h...   \n",
       "1          1  RT @NatGeoChannel: Watch #BeforeTheFlood right...   \n",
       "2          1  Fabulous! Leonardo #DiCaprio's film on #climat...   \n",
       "3          1  RT @Mick_Fanning: Just watched this amazing do...   \n",
       "4          2  RT @cnalive: Pranita Biswasi, a Lutheran from ...   \n",
       "\n",
       "              tweetid  \n",
       "0  792927353886371840  \n",
       "1  793124211518832641  \n",
       "2  793124402388832256  \n",
       "3  793124635873275904  \n",
       "4  793125156185137153  "
      ]
     },
     "execution_count": 3,
     "metadata": {},
     "output_type": "execute_result"
    }
   ],
   "source": [
    "tweets.head()"
   ]
  },
  {
   "cell_type": "markdown",
   "id": "e55e591a",
   "metadata": {},
   "source": [
    "<h2>Extract Engagement</h2>"
   ]
  },
  {
   "cell_type": "code",
   "execution_count": 4,
   "id": "e0616ac7",
   "metadata": {},
   "outputs": [],
   "source": [
    "bearer_token = \"AAAAAAAAAAAAAAAAAAAAAOK%2BdQEAAAAAnDXO25BoSCGC7MIIrXvgHR%2BU84c%3DOfoTzDxeli0xvZM9JwmnTNjxv8sCoilcpmJ4YvuFy243iq6zvt\"\n",
    "client = tweepy.Client(bearer_token)"
   ]
  },
  {
   "cell_type": "code",
   "execution_count": 5,
   "id": "b853ce23",
   "metadata": {},
   "outputs": [],
   "source": [
    "def extract_entities(t):\n",
    "    keys = list(t.data.entities.keys())\n",
    "    if 'mentions' in keys:\n",
    "        mentioned_users = [i['username'] for i in t.data.entities['mentions']]\n",
    "    else:\n",
    "        mentioned_users = None\n",
    "    if 'hashtags' in keys:\n",
    "        hashtags = [i['tag'] for i in t.data.entities['hashtags']]\n",
    "    else: \n",
    "        hashtags = None\n",
    "    if 'annnotations' in keys:\n",
    "        annotations = [i['annotation'] for i in t.data.entities['annotations']]\n",
    "    else: \n",
    "        annotations = None\n",
    "    if 'urls' in keys:\n",
    "        urls = [i['url'] for i in t.data.entities['urls']]\n",
    "    else: \n",
    "        urls = None\n",
    "    return (mentioned_users, hashtags, annotations, None)\n",
    "        "
   ]
  },
  {
   "cell_type": "code",
   "execution_count": 26,
   "id": "0bd8121c",
   "metadata": {},
   "outputs": [],
   "source": [
    "def get_tweet_data(t):\n",
    "    t = client.get_tweet(t, tweet_fields=['entities', 'public_metrics', 'author_id'])\n",
    "    if t.data == None:\n",
    "        return []\n",
    "    #identifiers\n",
    "    tweet_id = t.data.id\n",
    "    tweeter_id = t.data.author_id\n",
    "    #get tweet attributes\n",
    "    if getattr(t.data, 'public_metrics') != None:\n",
    "        metrics = t.data.public_metrics\n",
    "        retweets = metrics['retweet_count']\n",
    "        replies = metrics['reply_count']\n",
    "        likes = metrics['like_count']\n",
    "        quote_tweets = metrics['quote_count']\n",
    "    else:\n",
    "        retweets = None\n",
    "        replies = None\n",
    "        likes = None\n",
    "        quote_tweets = None\n",
    "    #get tweet entities\n",
    "    if getattr(t.data, 'entities'):\n",
    "        mentioned_users, hashtags, annotations, urls = extract_entities(t)\n",
    "    else:\n",
    "        mentioned_users, hashtags, annotations, urls = None, None, None, None \n",
    "    #write to file\n",
    "    data = np.array([tweet_id, tweeter_id, retweets, replies, likes, quote_tweets, mentioned_users,\n",
    "                     hashtags, annotations, urls], dtype=object)\n",
    "    data_df = pd.DataFrame([data], columns = ['tweet_id', 'tweeter_id', 'retweets', 'replies', 'likes', \n",
    "                                              'quote_tweets', 'mentioned_users', 'hashtags', 'annotations', \n",
    "                                              'urls'])\n",
    "    data_df.to_csv(\"tweet_engagement.csv\", mode=\"a\", index=False, header=True)\n",
    "    return None"
   ]
  },
  {
   "cell_type": "code",
   "execution_count": 27,
   "id": "498fa822",
   "metadata": {},
   "outputs": [
    {
     "name": "stdout",
     "output_type": "stream",
     "text": [
      "['annotations', 'mentions', 'urls']\n",
      "['urls']\n",
      "['urls', 'annotations', 'mentions', 'hashtags']\n",
      "['annotations', 'hashtags', 'urls', 'mentions']\n",
      "['urls', 'annotations']\n",
      "['hashtags', 'annotations', 'mentions', 'urls']\n",
      "['urls', 'mentions']\n",
      "['urls']\n",
      "['annotations', 'urls']\n",
      "['urls', 'annotations', 'hashtags']\n",
      "['urls', 'annotations', 'mentions', 'hashtags']\n",
      "['urls', 'mentions', 'hashtags']\n",
      "['mentions', 'urls', 'annotations', 'hashtags']\n",
      "['urls', 'hashtags', 'annotations', 'mentions']\n",
      "['annotations', 'urls']\n",
      "['urls', 'hashtags', 'annotations']\n",
      "['hashtags', 'urls', 'annotations']\n",
      "['annotations', 'urls', 'hashtags']\n",
      "['mentions', 'urls']\n"
     ]
    }
   ],
   "source": [
    "ids = tweets['tweetid'].values[:100]\n",
    "engagement_data = [get_tweet_data(i) for i in ids]"
   ]
  },
  {
   "cell_type": "code",
   "execution_count": 28,
   "id": "0fe76974",
   "metadata": {},
   "outputs": [],
   "source": [
    "test = pd.read_csv(\"tweet_engagement.csv\")"
   ]
  },
  {
   "cell_type": "code",
   "execution_count": 30,
   "id": "68aafe22",
   "metadata": {},
   "outputs": [
    {
     "data": {
      "text/html": [
       "<div>\n",
       "<style scoped>\n",
       "    .dataframe tbody tr th:only-of-type {\n",
       "        vertical-align: middle;\n",
       "    }\n",
       "\n",
       "    .dataframe tbody tr th {\n",
       "        vertical-align: top;\n",
       "    }\n",
       "\n",
       "    .dataframe thead th {\n",
       "        text-align: right;\n",
       "    }\n",
       "</style>\n",
       "<table border=\"1\" class=\"dataframe\">\n",
       "  <thead>\n",
       "    <tr style=\"text-align: right;\">\n",
       "      <th></th>\n",
       "      <th>tweet_id</th>\n",
       "      <th>tweeter_id</th>\n",
       "      <th>retweets</th>\n",
       "      <th>replies</th>\n",
       "      <th>likes</th>\n",
       "      <th>quote_tweets</th>\n",
       "      <th>mentioned_users</th>\n",
       "      <th>hashtags</th>\n",
       "      <th>annotations</th>\n",
       "      <th>urls</th>\n",
       "    </tr>\n",
       "  </thead>\n",
       "  <tbody>\n",
       "    <tr>\n",
       "      <th>0</th>\n",
       "      <td>792927353886371840</td>\n",
       "      <td>2986652667</td>\n",
       "      <td>0</td>\n",
       "      <td>0</td>\n",
       "      <td>0</td>\n",
       "      <td>0</td>\n",
       "      <td>['tiniebeany']</td>\n",
       "      <td>NaN</td>\n",
       "      <td>NaN</td>\n",
       "      <td>NaN</td>\n",
       "    </tr>\n",
       "    <tr>\n",
       "      <th>1</th>\n",
       "      <td>tweet_id</td>\n",
       "      <td>tweeter_id</td>\n",
       "      <td>retweets</td>\n",
       "      <td>replies</td>\n",
       "      <td>likes</td>\n",
       "      <td>quote_tweets</td>\n",
       "      <td>mentioned_users</td>\n",
       "      <td>hashtags</td>\n",
       "      <td>annotations</td>\n",
       "      <td>urls</td>\n",
       "    </tr>\n",
       "    <tr>\n",
       "      <th>2</th>\n",
       "      <td>793124635873275904</td>\n",
       "      <td>257517997</td>\n",
       "      <td>21</td>\n",
       "      <td>0</td>\n",
       "      <td>0</td>\n",
       "      <td>0</td>\n",
       "      <td>['Mick_Fanning']</td>\n",
       "      <td>NaN</td>\n",
       "      <td>NaN</td>\n",
       "      <td>NaN</td>\n",
       "    </tr>\n",
       "    <tr>\n",
       "      <th>3</th>\n",
       "      <td>tweet_id</td>\n",
       "      <td>tweeter_id</td>\n",
       "      <td>retweets</td>\n",
       "      <td>replies</td>\n",
       "      <td>likes</td>\n",
       "      <td>quote_tweets</td>\n",
       "      <td>mentioned_users</td>\n",
       "      <td>hashtags</td>\n",
       "      <td>annotations</td>\n",
       "      <td>urls</td>\n",
       "    </tr>\n",
       "    <tr>\n",
       "      <th>4</th>\n",
       "      <td>793125156185137153</td>\n",
       "      <td>555506562</td>\n",
       "      <td>10</td>\n",
       "      <td>0</td>\n",
       "      <td>0</td>\n",
       "      <td>0</td>\n",
       "      <td>['cnalive']</td>\n",
       "      <td>NaN</td>\n",
       "      <td>NaN</td>\n",
       "      <td>NaN</td>\n",
       "    </tr>\n",
       "    <tr>\n",
       "      <th>...</th>\n",
       "      <td>...</td>\n",
       "      <td>...</td>\n",
       "      <td>...</td>\n",
       "      <td>...</td>\n",
       "      <td>...</td>\n",
       "      <td>...</td>\n",
       "      <td>...</td>\n",
       "      <td>...</td>\n",
       "      <td>...</td>\n",
       "      <td>...</td>\n",
       "    </tr>\n",
       "    <tr>\n",
       "      <th>80</th>\n",
       "      <td>793168974510821376</td>\n",
       "      <td>62050691</td>\n",
       "      <td>0</td>\n",
       "      <td>0</td>\n",
       "      <td>0</td>\n",
       "      <td>0</td>\n",
       "      <td>NaN</td>\n",
       "      <td>['weather', 'forecast']</td>\n",
       "      <td>NaN</td>\n",
       "      <td>NaN</td>\n",
       "    </tr>\n",
       "    <tr>\n",
       "      <th>81</th>\n",
       "      <td>tweet_id</td>\n",
       "      <td>tweeter_id</td>\n",
       "      <td>retweets</td>\n",
       "      <td>replies</td>\n",
       "      <td>likes</td>\n",
       "      <td>quote_tweets</td>\n",
       "      <td>mentioned_users</td>\n",
       "      <td>hashtags</td>\n",
       "      <td>annotations</td>\n",
       "      <td>urls</td>\n",
       "    </tr>\n",
       "    <tr>\n",
       "      <th>82</th>\n",
       "      <td>793169535264096256</td>\n",
       "      <td>366888493</td>\n",
       "      <td>3</td>\n",
       "      <td>0</td>\n",
       "      <td>0</td>\n",
       "      <td>0</td>\n",
       "      <td>['CatalyticRxn']</td>\n",
       "      <td>['sciwri16']</td>\n",
       "      <td>NaN</td>\n",
       "      <td>NaN</td>\n",
       "    </tr>\n",
       "    <tr>\n",
       "      <th>83</th>\n",
       "      <td>tweet_id</td>\n",
       "      <td>tweeter_id</td>\n",
       "      <td>retweets</td>\n",
       "      <td>replies</td>\n",
       "      <td>likes</td>\n",
       "      <td>quote_tweets</td>\n",
       "      <td>mentioned_users</td>\n",
       "      <td>hashtags</td>\n",
       "      <td>annotations</td>\n",
       "      <td>urls</td>\n",
       "    </tr>\n",
       "    <tr>\n",
       "      <th>84</th>\n",
       "      <td>793169883290820608</td>\n",
       "      <td>20392809</td>\n",
       "      <td>15</td>\n",
       "      <td>0</td>\n",
       "      <td>0</td>\n",
       "      <td>0</td>\n",
       "      <td>['thinkprogress']</td>\n",
       "      <td>NaN</td>\n",
       "      <td>NaN</td>\n",
       "      <td>NaN</td>\n",
       "    </tr>\n",
       "  </tbody>\n",
       "</table>\n",
       "<p>85 rows × 10 columns</p>\n",
       "</div>"
      ],
      "text/plain": [
       "              tweet_id  tweeter_id  retweets  replies  likes  quote_tweets  \\\n",
       "0   792927353886371840  2986652667         0        0      0             0   \n",
       "1             tweet_id  tweeter_id  retweets  replies  likes  quote_tweets   \n",
       "2   793124635873275904   257517997        21        0      0             0   \n",
       "3             tweet_id  tweeter_id  retweets  replies  likes  quote_tweets   \n",
       "4   793125156185137153   555506562        10        0      0             0   \n",
       "..                 ...         ...       ...      ...    ...           ...   \n",
       "80  793168974510821376    62050691         0        0      0             0   \n",
       "81            tweet_id  tweeter_id  retweets  replies  likes  quote_tweets   \n",
       "82  793169535264096256   366888493         3        0      0             0   \n",
       "83            tweet_id  tweeter_id  retweets  replies  likes  quote_tweets   \n",
       "84  793169883290820608    20392809        15        0      0             0   \n",
       "\n",
       "      mentioned_users                 hashtags  annotations  urls  \n",
       "0      ['tiniebeany']                      NaN          NaN   NaN  \n",
       "1     mentioned_users                 hashtags  annotations  urls  \n",
       "2    ['Mick_Fanning']                      NaN          NaN   NaN  \n",
       "3     mentioned_users                 hashtags  annotations  urls  \n",
       "4         ['cnalive']                      NaN          NaN   NaN  \n",
       "..                ...                      ...          ...   ...  \n",
       "80                NaN  ['weather', 'forecast']          NaN   NaN  \n",
       "81    mentioned_users                 hashtags  annotations  urls  \n",
       "82   ['CatalyticRxn']             ['sciwri16']          NaN   NaN  \n",
       "83    mentioned_users                 hashtags  annotations  urls  \n",
       "84  ['thinkprogress']                      NaN          NaN   NaN  \n",
       "\n",
       "[85 rows x 10 columns]"
      ]
     },
     "execution_count": 30,
     "metadata": {},
     "output_type": "execute_result"
    }
   ],
   "source": [
    "test"
   ]
  },
  {
   "cell_type": "code",
   "execution_count": 19,
   "id": "7b176242",
   "metadata": {},
   "outputs": [
    {
     "data": {
      "text/plain": [
       "array([792927353886371840, 2986652667, 0, 0, 0, 0, list(['tiniebeany']),\n",
       "       None, None, None], dtype=object)"
      ]
     },
     "execution_count": 19,
     "metadata": {},
     "output_type": "execute_result"
    }
   ],
   "source": [
    "engagement_data[0]"
   ]
  },
  {
   "cell_type": "code",
   "execution_count": 23,
   "id": "8832de5a",
   "metadata": {},
   "outputs": [
    {
     "data": {
      "text/html": [
       "<div>\n",
       "<style scoped>\n",
       "    .dataframe tbody tr th:only-of-type {\n",
       "        vertical-align: middle;\n",
       "    }\n",
       "\n",
       "    .dataframe tbody tr th {\n",
       "        vertical-align: top;\n",
       "    }\n",
       "\n",
       "    .dataframe thead th {\n",
       "        text-align: right;\n",
       "    }\n",
       "</style>\n",
       "<table border=\"1\" class=\"dataframe\">\n",
       "  <thead>\n",
       "    <tr style=\"text-align: right;\">\n",
       "      <th></th>\n",
       "      <th>tweet_id</th>\n",
       "      <th>tweeter_id</th>\n",
       "      <th>retweets</th>\n",
       "      <th>replies</th>\n",
       "      <th>likes</th>\n",
       "      <th>quote_tweets</th>\n",
       "      <th>mentioned_users</th>\n",
       "      <th>hashtags</th>\n",
       "      <th>annotations</th>\n",
       "      <th>urls</th>\n",
       "    </tr>\n",
       "  </thead>\n",
       "  <tbody>\n",
       "    <tr>\n",
       "      <th>0</th>\n",
       "      <td>792927353886371840</td>\n",
       "      <td>2986652667</td>\n",
       "      <td>0</td>\n",
       "      <td>0</td>\n",
       "      <td>0</td>\n",
       "      <td>0</td>\n",
       "      <td>[tiniebeany]</td>\n",
       "      <td>None</td>\n",
       "      <td>None</td>\n",
       "      <td>None</td>\n",
       "    </tr>\n",
       "  </tbody>\n",
       "</table>\n",
       "</div>"
      ],
      "text/plain": [
       "             tweet_id  tweeter_id  retweets  replies  likes  quote_tweets  \\\n",
       "0  792927353886371840  2986652667         0        0      0             0   \n",
       "\n",
       "  mentioned_users hashtags annotations  urls  \n",
       "0    [tiniebeany]     None        None  None  "
      ]
     },
     "execution_count": 23,
     "metadata": {},
     "output_type": "execute_result"
    }
   ],
   "source": [
    "pd.DataFrame(data = [engagement_data[0]], columns = ['tweet_id', 'tweeter_id', 'retweets', 'replies', \n",
    "                                                     'likes', 'quote_tweets', 'mentioned_users', \n",
    "                                                     'hashtags', 'annotations', 'urls']\n",
    "            )"
   ]
  },
  {
   "cell_type": "code",
   "execution_count": null,
   "id": "af88b539",
   "metadata": {},
   "outputs": [],
   "source": [
    "t = client.get_tweet(1576673769644359680, tweet_fields=['entities', 'public_metrics', 'author_id'], \n",
    "          user_fields = ['description'], expansions=['author_id'])"
   ]
  },
  {
   "cell_type": "code",
   "execution_count": null,
   "id": "1c01646d-d34c-40a6-b8e7-93c711125376",
   "metadata": {},
   "outputs": [],
   "source": [
    "temp = pd.DataFrame([1576673769644359680])\n",
    "# .apply(get_tweet_data, axis=1)"
   ]
  },
  {
   "cell_type": "code",
   "execution_count": null,
   "id": "f50840fb-1497-4d65-b9e4-9d90584366f2",
   "metadata": {},
   "outputs": [],
   "source": [
    "t.data.entities"
   ]
  },
  {
   "cell_type": "code",
   "execution_count": null,
   "id": "8b1200aa",
   "metadata": {},
   "outputs": [],
   "source": [
    "dir(t.data)"
   ]
  },
  {
   "cell_type": "code",
   "execution_count": null,
   "id": "fbd95006",
   "metadata": {},
   "outputs": [],
   "source": [
    "dir(t.includes)"
   ]
  },
  {
   "cell_type": "markdown",
   "id": "7a6983ac",
   "metadata": {},
   "source": [
    "<h2>Write to file</h2>"
   ]
  },
  {
   "cell_type": "code",
   "execution_count": null,
   "id": "70a0fd9f",
   "metadata": {},
   "outputs": [],
   "source": [
    "df = pd.DataFrame(data=engagement_data, columns = ['tweet_id', 'tweeter_id', 'retweets', \n",
    "                                                   'replies', 'likes', 'quote_tweets', \n",
    "                                                   'mentioned_users', 'hashtags', 'annotations'])"
   ]
  },
  {
   "cell_type": "code",
   "execution_count": null,
   "id": "7e84e715",
   "metadata": {},
   "outputs": [],
   "source": [
    "os.chdir(\"../\")"
   ]
  },
  {
   "cell_type": "code",
   "execution_count": null,
   "id": "266c2e28",
   "metadata": {},
   "outputs": [],
   "source": [
    "df.to_csv(\"engagement_data.csv\")"
   ]
  },
  {
   "cell_type": "code",
   "execution_count": null,
   "id": "4cb4e610",
   "metadata": {},
   "outputs": [],
   "source": []
  }
 ],
 "metadata": {
  "kernelspec": {
   "display_name": "Python 3 (ipykernel)",
   "language": "python",
   "name": "python3"
  },
  "language_info": {
   "codemirror_mode": {
    "name": "ipython",
    "version": 3
   },
   "file_extension": ".py",
   "mimetype": "text/x-python",
   "name": "python",
   "nbconvert_exporter": "python",
   "pygments_lexer": "ipython3",
   "version": "3.8.13"
  }
 },
 "nbformat": 4,
 "nbformat_minor": 5
}
